{
 "cells": [
  {
   "cell_type": "code",
   "execution_count": 1,
   "metadata": {},
   "outputs": [],
   "source": [
    "from ase import Atoms, Atom\n",
    "from vasp import Vasp\n",
    "from vasp.vasprc import VASPRC\n",
    "import numpy as np\n",
    "from ase.io import write\n",
    "import matplotlib.pyplot as plt\n",
    "from ase.io import read\n",
    "import os\n",
    "from ase.io import read\n",
    "from ase.constraints import FixAtoms\n",
    "from ase.io.vasp import write_vasp\n",
    "import math\n",
    "import shutil\n",
    "from ase.build import molecule\n",
    "from ase.visualize import view\n",
    "VASPRC['queue.q']='hpc'\n",
    "VASPRC['queue.pe']='mpi-48'\n",
    "VASPRC['queue.nprocs']=96"
   ]
  },
  {
   "cell_type": "code",
   "execution_count": 4,
   "metadata": {},
   "outputs": [
    {
     "name": "stdout",
     "output_type": "stream",
     "text": [
      "-11.34413028\n"
     ]
    }
   ],
   "source": [
    "atoms = Atoms([Atom('H', [0.5960812, -0.7677068, 0.00]),\n",
    "              Atom('C', [0.000, 0.000, 0.000]),\n",
    "              Atom('H', [0.5960812, 0.7677068, 0.000])],\n",
    "              cell = (16,16,16))\n",
    "atoms.center()\n",
    "calc = Vasp('./carbene/relax',\n",
    "           xc = 'PBE',\n",
    "           encut = 400,\n",
    "           ismear = 0,\n",
    "           sigma = 0.01,\n",
    "           ncore = 48,\n",
    "           ibrion =2,\n",
    "           ediff = 1e-8,\n",
    "           ediffg = -0.01,\n",
    "           nsw = 500,\n",
    "           atoms = atoms)\n",
    "energy = calc.get_potential_energy()\n",
    "print(energy)"
   ]
  },
  {
   "cell_type": "code",
   "execution_count": null,
   "metadata": {},
   "outputs": [],
   "source": []
  },
  {
   "cell_type": "code",
   "execution_count": 12,
   "metadata": {},
   "outputs": [],
   "source": []
  },
  {
   "cell_type": "code",
   "execution_count": 15,
   "metadata": {},
   "outputs": [],
   "source": []
  },
  {
   "cell_type": "code",
   "execution_count": 16,
   "metadata": {},
   "outputs": [],
   "source": []
  },
  {
   "cell_type": "code",
   "execution_count": null,
   "metadata": {},
   "outputs": [],
   "source": []
  }
 ],
 "metadata": {
  "kernelspec": {
   "display_name": "Python 3",
   "language": "python",
   "name": "python3"
  },
  "language_info": {
   "codemirror_mode": {
    "name": "ipython",
    "version": 3
   },
   "file_extension": ".py",
   "mimetype": "text/x-python",
   "name": "python",
   "nbconvert_exporter": "python",
   "pygments_lexer": "ipython3",
   "version": "3.7.3"
  }
 },
 "nbformat": 4,
 "nbformat_minor": 2
}
